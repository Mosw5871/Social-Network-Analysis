{
 "cells": [
  {
   "cell_type": "code",
   "execution_count": 1,
   "id": "3d0bba26-9a45-4502-8f6e-332bdd53a69a",
   "metadata": {
    "execution": {
     "iopub.execute_input": "2024-10-19T17:23:16.102156Z",
     "iopub.status.busy": "2024-10-19T17:23:16.101571Z",
     "iopub.status.idle": "2024-10-19T17:23:17.382805Z",
     "shell.execute_reply": "2024-10-19T17:23:17.382175Z",
     "shell.execute_reply.started": "2024-10-19T17:23:16.102108Z"
    }
   },
   "outputs": [],
   "source": [
    "import requests\n",
    "import pandas as pd\n",
    "import time"
   ]
  },
  {
   "cell_type": "code",
   "execution_count": 2,
   "id": "0d41aebc-113f-4a41-a013-75228e430998",
   "metadata": {
    "execution": {
     "iopub.execute_input": "2024-10-19T17:23:45.368676Z",
     "iopub.status.busy": "2024-10-19T17:23:45.367710Z",
     "iopub.status.idle": "2024-10-19T17:23:45.376189Z",
     "shell.execute_reply": "2024-10-19T17:23:45.374801Z",
     "shell.execute_reply.started": "2024-10-19T17:23:45.368630Z"
    }
   },
   "outputs": [],
   "source": [
    "# 初始模板，分页和其他参数使用格式化占位符\n",
    "template = 'https://www.zhihu.com/api/v4/questions/30644408/feeds?cursor={offset}&include=data[*].is_normal,admin_closed_comment,reward_info,is_collapsed,annotation_action,annotation_detail,collapse_reason,is_sticky,collapsed_by,suggest_edit,comment_count,can_comment,content,editable_content,attachment,voteup_count,reshipment_settings,comment_permission,created_time,updated_time,review_info,relevant_info,question,excerpt,is_labeled,paid_info,paid_info_content,reaction_instruction,relationship.is_authorized,is_author,voting,is_thanked,is_nothelp;data[*].mark_infos[*].url;data[*].author.follower_count,vip_info,badge[*].topics;data[*].settings.table_of_content.enabled&limit=5&order=default&platform=desktop&session_id=1698132896804376037'"
   ]
  },
  {
   "cell_type": "code",
   "execution_count": null,
   "id": "03487fdc-b5c6-4b33-bd37-0e57d66e9aab",
   "metadata": {},
   "outputs": [],
   "source": [
    "其中，30644408 是你正在爬取的特定问题的 ID。\n",
    "\n",
    "如果要爬取新的问题，你需要替换这个问题 ID：\n",
    "找到你想爬取的知乎问题的页面 URL，例如：https://www.zhihu.com/question/12345678。\n",
    "\n",
    "将该 URL 中的问题 ID 12345678 替换到你的 template 模板中"
   ]
  },
  {
   "cell_type": "code",
   "execution_count": 3,
   "id": "e0254150-986e-4172-b4b6-62dc7bbd6baf",
   "metadata": {
    "execution": {
     "iopub.execute_input": "2024-10-19T17:24:28.592943Z",
     "iopub.status.busy": "2024-10-19T17:24:28.592668Z",
     "iopub.status.idle": "2024-10-19T17:24:28.597628Z",
     "shell.execute_reply": "2024-10-19T17:24:28.596803Z",
     "shell.execute_reply.started": "2024-10-19T17:24:28.592920Z"
    }
   },
   "outputs": [],
   "source": [
    "# 模拟浏览器请求的Headers\n",
    "headers = {\n",
    "    'User-Agent': 'Mozilla/5.0 (Macintosh; Intel Mac OS X 10_15_7) AppleWebKit/537.36 (KHTML, like Gecko) Chrome/127.0.0.0 Safari/537.36 Edg/127.0.0.0',\n",
    "    'Referer': 'https://www.bing.com/',\n",
    "    'Accept-Language': 'zh-CN,zh;q=0.9,en;q=0.8,en-GB;q=0.7,en-US;q=0.6',\n",
    "}\n",
    "# 在浏览器中登录知乎后，获取到的cookies\n",
    "# 你的cookies字典\n",
    "cookies = {\n",
    "    '_xsrf': 'gjdZ4oQww7xdc1rl9Y46ATAwfYTLgIPT',\n",
    "    '_zap': 'b62b288e-65d8-4ddf-830f-bc487103de32',\n",
    "    'd_c0': 'ADBSghKWKRmPTr0g0RjOsZbwi_KXu7YGkJM=|1725067533',\n",
    "    'captcha_session_v2': '2|1:0|10:1727016293|18:captcha_session_v2|88:WU5MVmY2cXJ4bXlIVG5ObENGV2ZScEM3eHU2V29yMkJIdEYxUzhJR3BZcWV4OGxGRWQ0MU8vcnROV0piYUtGZQ==|c7c91710bf394bc85fdd1e24b8adcf84dc98046dba0b43c39d8a87611cc88676',\n",
    "    'z_c0': '2|1:0|10:1727966943|4:z_c0|92:Mi4xa203T0F3QUFBQUFBTUZLQ0VwWXBHU1lBQUFCZ0FsVk5kM3ZkWndCT1RlQnM5UTM2eW9KalZoanpSMjY5eERORDBB|db35b51233b04bdbfbf30dcfc4af5d9030d80dffd2b3bb6ab2e954758665e821',\n",
    "    'q_c1': '68262f01efcb4510bd9c91181f06f938|1729355576000|1729355576000',\n",
    "    'Hm_lvt_98beee57fd2ef70ccdd5ca52b9740c49': '1728644718,1729045339,1729253598,1729355578',\n",
    "    'HMACCOUNT': 'C24521C351DD8482',\n",
    "    '__zse_ck': '003_bTp0AtTgkr8GLJS/3EI5htzYhzAZFWxoYJvQpOLb5V5v7ZIMk=xv+1WeA5aDN0gsGXPvi9M2g8npQYuTAi9VhbzOH2Ju98zNjcOZ3ZGN/wmQ',\n",
    "    'Hm_lpvt_98beee57fd2ef70ccdd5ca52b9740c49': '1729357429',\n",
    "    'tst': 'r',\n",
    "    'BEC': '4589376d83fd47c9203681b16177ae43',\n",
    "    'SESSIONID': 'EeWPOAOuPjMmvLKtBAxML0l4b89efzjZJ8OKgbw9v8A',\n",
    "    'JOID': 'U1wTBEshGCsHBsBrGCc8fvByDDsGYX99UEiEJmxwd2Rrd40lbl79PmYCx2ge_f-wtuQ5KcHEXqowCmZwy12igUQ=',\n",
    "    'osd': 'WlEXAEMoFS8DDslmHCM0d_12CDMPbHt5WEGJImh4fmlvc4UsY1r5Nm8Pw2wW9PK0suwwJMXAVqM9DmJ4wlCmhUw='\n",
    "}"
   ]
  },
  {
   "cell_type": "code",
   "execution_count": 4,
   "id": "8b29a729-ddf9-4fdb-b7a9-5bc23ce90068",
   "metadata": {
    "execution": {
     "iopub.execute_input": "2024-10-19T17:24:41.105243Z",
     "iopub.status.busy": "2024-10-19T17:24:41.104382Z",
     "iopub.status.idle": "2024-10-19T17:24:41.115567Z",
     "shell.execute_reply": "2024-10-19T17:24:41.114049Z",
     "shell.execute_reply.started": "2024-10-19T17:24:41.105196Z"
    }
   },
   "outputs": [],
   "source": [
    "# 初始化 DataFrame，用于存储回答数据\n",
    "df = pd.DataFrame(columns=['answer_id', 'content', 'created_time'])"
   ]
  },
  {
   "cell_type": "code",
   "execution_count": 5,
   "id": "357ea73b-e9ea-4190-9d53-7b7e1305854e",
   "metadata": {
    "execution": {
     "iopub.execute_input": "2024-10-19T17:25:08.527660Z",
     "iopub.status.busy": "2024-10-19T17:25:08.527226Z",
     "iopub.status.idle": "2024-10-19T17:25:08.533155Z",
     "shell.execute_reply": "2024-10-19T17:25:08.531616Z",
     "shell.execute_reply.started": "2024-10-19T17:25:08.527626Z"
    }
   },
   "outputs": [],
   "source": [
    "answer_ids = []\n",
    "# 初始化第一页的请求URL\n",
    "url = template.format(offset=0)"
   ]
  },
  {
   "cell_type": "code",
   "execution_count": 7,
   "id": "2f4f1f18-5c73-4a2d-ab88-8dfccfda5f02",
   "metadata": {
    "execution": {
     "iopub.execute_input": "2024-10-19T17:27:15.537289Z",
     "iopub.status.busy": "2024-10-19T17:27:15.536563Z",
     "iopub.status.idle": "2024-10-19T17:27:31.748048Z",
     "shell.execute_reply": "2024-10-19T17:27:31.746454Z",
     "shell.execute_reply.started": "2024-10-19T17:27:15.537261Z"
    }
   },
   "outputs": [
    {
     "name": "stdout",
     "output_type": "stream",
     "text": [
      "正在爬取第1页\n",
      "正在爬取第2页\n",
      "正在爬取第3页\n"
     ]
    }
   ],
   "source": [
    "# 爬取的页数\n",
    "for page in range(1, 4):  # 这里可以调整页数\n",
    "    try:\n",
    "        # 发送请求\n",
    "        resp = requests.get(url, headers=headers, cookies=cookies)\n",
    "        print(f'正在爬取第{page}页')\n",
    "\n",
    "        # 收集每页的数据\n",
    "        data_list = []\n",
    "\n",
    "        # 解析数据\n",
    "        for data in resp.json()['data']:\n",
    "            answer_id = data['target']['id']\n",
    "            content = data['target'].get('content', '')  # 如果不存在内容字段则默认为空\n",
    "            created_time = data['target']['created_time']\n",
    "\n",
    "            # 将数据存入列表\n",
    "            data_list.append({'answer_id': answer_id, 'content': content, 'created_time': created_time})\n",
    "            answer_ids.append(answer_id)\n",
    "\n",
    "        # 将列表数据转成 DataFrame，并使用 pd.concat() 追加到原始 DataFrame 中\n",
    "        page_df = pd.DataFrame(data_list)\n",
    "        df = pd.concat([df, page_df], ignore_index=True)\n",
    "\n",
    "        # 获取下一页的 URL\n",
    "        url = resp.json()['paging']['next']\n",
    "\n",
    "        # 随机延时，避免触发反爬机制\n",
    "        time.sleep(5)\n",
    "\n",
    "    except Exception as e:\n",
    "        print(f'爬取第{page}页时发生错误：{e}')\n",
    "        break"
   ]
  },
  {
   "cell_type": "code",
   "execution_count": 8,
   "id": "57326753-52a2-4ad8-b11e-20795313fbdd",
   "metadata": {
    "execution": {
     "iopub.execute_input": "2024-10-19T17:28:04.547548Z",
     "iopub.status.busy": "2024-10-19T17:28:04.547197Z",
     "iopub.status.idle": "2024-10-19T17:28:04.567918Z",
     "shell.execute_reply": "2024-10-19T17:28:04.566226Z",
     "shell.execute_reply.started": "2024-10-19T17:28:04.547521Z"
    }
   },
   "outputs": [
    {
     "name": "stdout",
     "output_type": "stream",
     "text": [
      "数据已保存到zhihu_answers.csv\n"
     ]
    }
   ],
   "source": [
    "# 爬取结束后，可以保存到 CSV 文件\n",
    "df.to_csv('zhihu_answers.csv', index=False)\n",
    "print('数据已保存到zhihu_answers.csv')"
   ]
  },
  {
   "cell_type": "code",
   "execution_count": null,
   "id": "1743fc53-df79-4bb1-95b8-b0686dfcdc20",
   "metadata": {},
   "outputs": [],
   "source": []
  }
 ],
 "metadata": {
  "kernelspec": {
   "display_name": "Python 3 (ipykernel)",
   "language": "python",
   "name": "python3"
  },
  "language_info": {
   "codemirror_mode": {
    "name": "ipython",
    "version": 3
   },
   "file_extension": ".py",
   "mimetype": "text/x-python",
   "name": "python",
   "nbconvert_exporter": "python",
   "pygments_lexer": "ipython3",
   "version": "3.11.5"
  },
  "widgets": {
   "application/vnd.jupyter.widget-state+json": {
    "state": {},
    "version_major": 2,
    "version_minor": 0
   }
  }
 },
 "nbformat": 4,
 "nbformat_minor": 5
}
